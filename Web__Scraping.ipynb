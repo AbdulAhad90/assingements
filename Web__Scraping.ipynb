{
 "cells": [
  {
   "cell_type": "code",
   "execution_count": 8,
   "metadata": {},
   "outputs": [
    {
     "name": "stdout",
     "output_type": "stream",
     "text": [
      "\n",
      "Yaadgaar Tea Rusks 200g\n",
      "\n",
      "\n",
      "Yaadgaar Coconut Biscuits 200g\n",
      "\n",
      "\n",
      "Wai Wai Vermicilli 200g\n",
      "\n",
      "\n",
      "Wai Wai Oriental Noodles 60g\n",
      "\n",
      "\n",
      "Wai Wai 123 Noodles 75g\n",
      "\n",
      "\n",
      "Tropical Sun Pure Natural Honey 350g\n",
      "\n",
      "\n",
      "Tropical Sun Evaporated Milk 400g\n",
      "\n",
      "\n",
      "Tropical Sun Apple Cider Vinegar 400ml\n",
      "\n",
      "\n",
      "Tate Lyle Sugar 1 Kg\n",
      "\n",
      "\n",
      "Tata Tea Gold Label 450g\n",
      "\n",
      "\n",
      "Tata Tea Gold Label 250g\n",
      "\n",
      "\n",
      "Tata Salt 1 Kg\n",
      "\n"
     ]
    },
    {
     "ename": "AttributeError",
     "evalue": "'NoneType' object has no attribute 'a'",
     "output_type": "error",
     "traceback": [
      "\u001b[1;31m---------------------------------------------------------------------------\u001b[0m",
      "\u001b[1;31mAttributeError\u001b[0m                            Traceback (most recent call last)",
      "\u001b[1;32m<ipython-input-8-24ee6eddf537>\u001b[0m in \u001b[0;36m<module>\u001b[1;34m\u001b[0m\n\u001b[0;32m     12\u001b[0m \u001b[1;33m\u001b[0m\u001b[0m\n\u001b[0;32m     13\u001b[0m \u001b[0mnextpage\u001b[0m \u001b[1;33m=\u001b[0m \u001b[0mbs\u001b[0m\u001b[1;33m.\u001b[0m\u001b[0mfind\u001b[0m\u001b[1;33m(\u001b[0m\u001b[1;34m'li'\u001b[0m\u001b[1;33m,\u001b[0m \u001b[1;33m{\u001b[0m\u001b[1;34m'class'\u001b[0m\u001b[1;33m:\u001b[0m \u001b[1;34m'paginatio-item paginatio-item'\u001b[0m\u001b[1;33m}\u001b[0m\u001b[1;33m)\u001b[0m\u001b[1;33m\u001b[0m\u001b[1;33m\u001b[0m\u001b[0m\n\u001b[1;32m---> 14\u001b[1;33m \u001b[0mnextpage\u001b[0m \u001b[1;33m=\u001b[0m \u001b[0mnextpage\u001b[0m\u001b[1;33m.\u001b[0m\u001b[0ma\u001b[0m\u001b[1;33m.\u001b[0m\u001b[0mattrs\u001b[0m\u001b[1;33m[\u001b[0m\u001b[1;34m'href'\u001b[0m\u001b[1;33m]\u001b[0m\u001b[1;33m\u001b[0m\u001b[1;33m\u001b[0m\u001b[0m\n\u001b[0m\u001b[0;32m     15\u001b[0m \u001b[1;33m\u001b[0m\u001b[0m\n\u001b[0;32m     16\u001b[0m \u001b[0mhtml\u001b[0m \u001b[1;33m=\u001b[0m \u001b[0murlopen\u001b[0m\u001b[1;33m(\u001b[0m\u001b[0mnextpage\u001b[0m\u001b[1;33m)\u001b[0m\u001b[1;33m\u001b[0m\u001b[1;33m\u001b[0m\u001b[0m\n",
      "\u001b[1;31mAttributeError\u001b[0m: 'NoneType' object has no attribute 'a'"
     ]
    }
   ],
   "source": [
    "from bs4 import BeautifulSoup\n",
    "from urllib.request import urlopen\n",
    " \n",
    "html = urlopen('https://eurasiaonline.ie/food-cupboard/')\n",
    "html = html.read()\n",
    "\n",
    "bs = BeautifulSoup (html, 'html.parser')\n",
    "name = bs.findAll('h4', {'class': 'card-title'})\n",
    "\n",
    "for i in name:\n",
    "    print(i.text)\n",
    "\n",
    "nextpage = bs.find('li', {'class': 'paginatio-item paginatio-item'})\n",
    "nextpage = nextpage.a.attrs['href']\n",
    "            \n",
    "html = urlopen(nextpage)\n",
    "html = html.read()\n",
    "                          \n",
    "                          "
   ]
  },
  {
   "cell_type": "code",
   "execution_count": null,
   "metadata": {},
   "outputs": [],
   "source": []
  }
 ],
 "metadata": {
  "kernelspec": {
   "display_name": "Python 3",
   "language": "python",
   "name": "python3"
  },
  "language_info": {
   "codemirror_mode": {
    "name": "ipython",
    "version": 3
   },
   "file_extension": ".py",
   "mimetype": "text/x-python",
   "name": "python",
   "nbconvert_exporter": "python",
   "pygments_lexer": "ipython3",
   "version": "3.8.5"
  }
 },
 "nbformat": 4,
 "nbformat_minor": 4
}
