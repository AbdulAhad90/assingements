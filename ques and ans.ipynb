{
 "cells": [
  {
   "cell_type": "markdown",
   "metadata": {},
   "source": [
    "# assigement of question and answer"
   ]
  },
  {
   "cell_type": "markdown",
   "metadata": {},
   "source": [
    "# using for loop"
   ]
  },
  {
   "cell_type": "code",
   "execution_count": null,
   "metadata": {},
   "outputs": [],
   "source": [
    "database = [\n",
    "    {\n",
    "        \"ques\" : \"What comes after 9 \",\n",
    "        \"opt1\" : 6,\n",
    "        \"opt2\" : 5,\n",
    "        \"opt3\" : 10,\n",
    "        \"ans\" : 10\n",
    "    \n",
    "    },\n",
    "    {\n",
    "      \"ques\" : \"What comes after 11 \",\n",
    "        \"opt1\" : 3,\n",
    "        \"opt2\" : 13,\n",
    "        \"opt3\" : 12,\n",
    "        \"ans\" : 12\n",
    "      \n",
    "    },\n",
    "    {\n",
    "        \"ques\" : \"When a number is multiply by 2 then subtract by 4, answer is 4. what is the number \",\n",
    "        \"opt1\" : 5,\n",
    "        \"opt2\" : 6,\n",
    "        \"opt3\" : 4,\n",
    "        \"ans\" : 4\n",
    "    \n",
    "    \n",
    "    },\n",
    "\n",
    "]"
   ]
  },
  {
   "cell_type": "code",
   "execution_count": null,
   "metadata": {},
   "outputs": [],
   "source": [
    "length = len(database)\n",
    "i = 0\n",
    "\n",
    "while i < length:\n",
    "    ques = database[i][\"ques\"]\n",
    "    opt1 = database[i][\"opt1\"]\n",
    "    opt2 = database[i][\"opt2\"]\n",
    "    opt3 = database[i][\"opt3\"]\n",
    "    ans = database[i][\"ans\"]\n",
    "    i = i + 1\n",
    "    print(ques)\n",
    "    print(opt1)\n",
    "    print(opt2)\n",
    "    print(opt3)\n",
    "    userInput = int(input(\"Enter Answer \"))\n",
    "    if userInput == ans:\n",
    "        print(\"Correct Answer \")\n",
    "    else:\n",
    "        print(\"Incorrect Answer \")\n",
    "        break"
   ]
  },
  {
   "cell_type": "code",
   "execution_count": null,
   "metadata": {},
   "outputs": [],
   "source": [
    "database = [\n",
    "    {\n",
    "        \"ques\" : \"What comes after 6 \",\n",
    "        \"opt1\" : 7,\n",
    "        \"opt2\" :11,\n",
    "        \"opt3\" : 5,\n",
    "        \"ans\"  :7\n",
    "        \n",
    "     },\n",
    "    {\n",
    "        \"ques\" : \"What comes before 10 \",\n",
    "        \"opt1\" : 8,\n",
    "        \"opt2\" : 9,\n",
    "        \"opt3\" : 11,\n",
    "        \"ans\"  : 9\n",
    "        \n",
    "    },\n",
    "    {\n",
    "        \"ques\" : \"When a number multiplied by 2 and then subtract by 4, answer is 4. What is the number \",\n",
    "        \"opt1\" : 5,\n",
    "        \"opt2\" : 6,\n",
    "        \"opt3\" : 4,\n",
    "        \"ans\"  : 4\n",
    "        \n",
    "    }\n",
    "]"
   ]
  },
  {
   "cell_type": "code",
   "execution_count": null,
   "metadata": {},
   "outputs": [],
   "source": [
    "length = len(database)\n",
    "i = 0\n",
    "\n",
    "while i < length:\n",
    "    ques = database[i][\"ques\"]\n",
    "    opt1 = database[i][\"opt1\"]\n",
    "    opt2 = database[i][\"opt2\"]\n",
    "    opt3 = database[i][\"opt3\"]\n",
    "    ans = database[i][\"ans\"]\n",
    "    i = i + 1\n",
    "    print(ques)\n",
    "    print(opt1)\n",
    "    print(opt2)\n",
    "    print(opt3)\n",
    "    userInput = int(input(\"Enter Answer \"))\n",
    "    if userInput == ans:\n",
    "        print(\"Correct Answer \")\n",
    "    else:\n",
    "        print(\"Incorrect Answer \")\n",
    "        break"
   ]
  },
  {
   "cell_type": "code",
   "execution_count": null,
   "metadata": {},
   "outputs": [],
   "source": []
  }
 ],
 "metadata": {
  "kernelspec": {
   "display_name": "Python 3",
   "language": "python",
   "name": "python3"
  },
  "language_info": {
   "codemirror_mode": {
    "name": "ipython",
    "version": 3
   },
   "file_extension": ".py",
   "mimetype": "text/x-python",
   "name": "python",
   "nbconvert_exporter": "python",
   "pygments_lexer": "ipython3",
   "version": "3.8.5"
  }
 },
 "nbformat": 4,
 "nbformat_minor": 4
}
