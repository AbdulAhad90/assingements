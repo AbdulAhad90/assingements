{
 "cells": [
  {
   "cell_type": "markdown",
   "metadata": {},
   "source": [
    "# Data__Files"
   ]
  },
  {
   "cell_type": "code",
   "execution_count": 3,
   "metadata": {},
   "outputs": [],
   "source": [
    "with open('practice.txt', 'a') as f:\n",
    "    f.write(\"Practice Task 22\")\n",
    "\n",
    "with open('practice.txt', 'w') as f:\n",
    "    f.write('Practice Task')"
   ]
  },
  {
   "cell_type": "code",
   "execution_count": null,
   "metadata": {},
   "outputs": [],
   "source": [
    "with open('practice.txt', 'w') as f:\n",
    "    f.write('Practice Task')\n"
   ]
  },
  {
   "cell_type": "code",
   "execution_count": null,
   "metadata": {},
   "outputs": [],
   "source": [
    "with open('writing.txt', 'w') as f:\n",
    "    f.write('writing Task 32')\n",
    "    "
   ]
  },
  {
   "cell_type": "code",
   "execution_count": null,
   "metadata": {},
   "outputs": [],
   "source": [
    "with open('writing.txt', 'a') as f:\n",
    "    f.write('writing Task 32') \n",
    "    f.write('Hunain task')\n",
    "    "
   ]
  },
  {
   "cell_type": "code",
   "execution_count": null,
   "metadata": {},
   "outputs": [],
   "source": [
    "with open('practice.txt', 'w') as f:\n",
    "    f.write('Practice Task')\n",
    "    \n",
    "with open('writing.txt', 'a') as f:\n",
    "    f.write('writing Task 32') \n",
    "    f.write('Hunain task')"
   ]
  },
  {
   "cell_type": "markdown",
   "metadata": {},
   "source": []
  }
 ],
 "metadata": {
  "kernelspec": {
   "display_name": "Python 3",
   "language": "python",
   "name": "python3"
  },
  "language_info": {
   "codemirror_mode": {
    "name": "ipython",
    "version": 3
   },
   "file_extension": ".py",
   "mimetype": "text/x-python",
   "name": "python",
   "nbconvert_exporter": "python",
   "pygments_lexer": "ipython3",
   "version": "3.8.5"
  }
 },
 "nbformat": 4,
 "nbformat_minor": 4
}
