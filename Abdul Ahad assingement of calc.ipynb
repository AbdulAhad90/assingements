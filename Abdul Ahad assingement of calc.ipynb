{
 "cells": [
  {
   "cell_type": "code",
   "execution_count": 9,
   "id": "88b4bb3e",
   "metadata": {},
   "outputs": [],
   "source": [
    "def calc(firstnum, lastnum, operator):\n",
    "    if operator == \"+\":\n",
    "        total = firstnum + lastnum\n",
    "        print(total)\n",
    "        \n",
    "        if operator == \"-\":\n",
    "            total = firstnum - lastnum\n",
    "            print(total)\n",
    "        else:\n",
    "            print(\"undefined Operator\")\n",
    "              "
   ]
  },
  {
   "cell_type": "code",
   "execution_count": 23,
   "id": "eeb318ff",
   "metadata": {},
   "outputs": [
    {
     "name": "stdout",
     "output_type": "stream",
     "text": [
      "33\n",
      "undefined Operator\n"
     ]
    }
   ],
   "source": [
    "calc(15, 18, \"+\" )"
   ]
  },
  {
   "cell_type": "code",
   "execution_count": 21,
   "id": "31d1df35",
   "metadata": {},
   "outputs": [],
   "source": [
    "def calc(firstnum, lastnum, operator):\n",
    "    if operator == \"+\":\n",
    "        total = firstnum + lastnum\n",
    "        print(total)\n",
    "        \n",
    "        if operator == \"-\":\n",
    "            total = firstnum - lastnum\n",
    "            print(total)\n",
    "        else:\n",
    "            print(\"undefined Operator\")\n",
    "              "
   ]
  },
  {
   "cell_type": "code",
   "execution_count": 20,
   "id": "d0bcac7d",
   "metadata": {},
   "outputs": [],
   "source": [
    "calc(10, 5, \"-\")"
   ]
  },
  {
   "cell_type": "code",
   "execution_count": 18,
   "id": "98063467",
   "metadata": {},
   "outputs": [],
   "source": [
    "def calc(firstnum, lastnum, operator):\n",
    "    if operator == \"+\":\n",
    "        total = firstnum + lastnum\n",
    "        print(total)\n",
    "        \n",
    "        if operator == \"-\":\n",
    "            total = firstnum - lastnum\n",
    "            print(total)\n",
    "        else:\n",
    "            print(\"undefined Operator\")\n",
    "              "
   ]
  },
  {
   "cell_type": "code",
   "execution_count": 26,
   "id": "e5109afb",
   "metadata": {},
   "outputs": [],
   "source": [
    "calc(16, 13, \"/\")"
   ]
  },
  {
   "cell_type": "code",
   "execution_count": null,
   "id": "0ffefafb",
   "metadata": {},
   "outputs": [],
   "source": []
  }
 ],
 "metadata": {
  "kernelspec": {
   "display_name": "Python 3",
   "language": "python",
   "name": "python3"
  },
  "language_info": {
   "codemirror_mode": {
    "name": "ipython",
    "version": 3
   },
   "file_extension": ".py",
   "mimetype": "text/x-python",
   "name": "python",
   "nbconvert_exporter": "python",
   "pygments_lexer": "ipython3",
   "version": "3.8.8"
  }
 },
 "nbformat": 4,
 "nbformat_minor": 5
}
