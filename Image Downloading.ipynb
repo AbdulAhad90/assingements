{
 "cells": [
  {
   "cell_type": "code",
   "execution_count": 2,
   "metadata": {},
   "outputs": [],
   "source": [
    "from bs4 import BeautifulSoup\n",
    "from urllib.request import urlopen"
   ]
  },
  {
   "cell_type": "code",
   "execution_count": 6,
   "metadata": {},
   "outputs": [
    {
     "name": "stdout",
     "output_type": "stream",
     "text": [
      "https://cdn11.bigcommerce.com/s-jwha7sf47a/images/stencil/1280x1280/products/9174/15844/1380941381__53155.1637068964.png?c=1\n"
     ]
    }
   ],
   "source": [
    "html = urlopen('https://eurasiaonline.ie/yaadgaar-coconut-biscuits-200g/')\n",
    "html = html.read()\n",
    "\n",
    "bs = BeautifulSoup(html, 'html.parser')\n",
    "src = bs.find('section', {'class' : 'productView-images'})\n",
    "src = src.figure\n",
    "# pardName = bs.find('figure', {'class': 'productive-image is-ready'}).text\n",
    "\n",
    "src = src.attrs['data-zoom-image']\n",
    "\n",
    "print(src)\n",
    "\n"
   ]
  },
  {
   "cell_type": "code",
   "execution_count": 20,
   "metadata": {},
   "outputs": [],
   "source": [
    "from bs4 import BeautifulSoup\n",
    "from urllib.request import urlopen\n",
    "from urllib.request import urlretrieve\n"
   ]
  },
  {
   "cell_type": "code",
   "execution_count": 30,
   "metadata": {},
   "outputs": [
    {
     "name": "stdout",
     "output_type": "stream",
     "text": [
      "Yaadgaar Coconut Biscuits 200g\n",
      "https://cdn11.bigcommerce.com/s-jwha7sf47a/images/stencil/1280x1280/products/9174/15844/1380941381__53155.1637068964.png?c=1\n"
     ]
    },
    {
     "data": {
      "text/plain": [
       "('Yaadgaar Coconut Biscuits 200g.jpg',\n",
       " <http.client.HTTPMessage at 0x158a7b7b940>)"
      ]
     },
     "execution_count": 30,
     "metadata": {},
     "output_type": "execute_result"
    }
   ],
   "source": [
    "html = urlopen('https://eurasiaonline.ie/yaadgaar-coconut-biscuits-200g/')\n",
    "html = html.read()\n",
    "\n",
    "bs = BeautifulSoup(html, 'html.parser')\n",
    "src = bs.find('section', {'class' : 'productView-images'})\n",
    "src = src.figure\n",
    "prdName = bs.find('h1', {'class': 'productView-title main-heading'}).text\n",
    "print(prdName)\n",
    "src = src.attrs['data-zoom-image']\n",
    "\n",
    "print(src)\n",
    "\n",
    "urlretrieve(src, prdName + \".jpg\")\n"
   ]
  },
  {
   "cell_type": "code",
   "execution_count": null,
   "metadata": {},
   "outputs": [],
   "source": []
  }
 ],
 "metadata": {
  "kernelspec": {
   "display_name": "Python 3",
   "language": "python",
   "name": "python3"
  },
  "language_info": {
   "codemirror_mode": {
    "name": "ipython",
    "version": 3
   },
   "file_extension": ".py",
   "mimetype": "text/x-python",
   "name": "python",
   "nbconvert_exporter": "python",
   "pygments_lexer": "ipython3",
   "version": "3.8.5"
  }
 },
 "nbformat": 4,
 "nbformat_minor": 4
}
